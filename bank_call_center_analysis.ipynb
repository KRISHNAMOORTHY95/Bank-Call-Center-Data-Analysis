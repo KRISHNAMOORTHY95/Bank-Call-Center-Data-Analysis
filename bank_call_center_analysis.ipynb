{
 "cells": [
  {
   "cell_type": "markdown",
   "id": "e4e1d120",
   "metadata": {},
   "source": [
    "## Step 1: Import Libraries and Load Dataset"
   ]
  },
  {
   "cell_type": "code",
   "execution_count": null,
   "id": "8f75a427",
   "metadata": {},
   "outputs": [],
   "source": [
    "\n",
    "import pandas as pd\n",
    "import numpy as np\n",
    "import seaborn as sns\n",
    "import matplotlib.pyplot as plt\n",
    "\n",
    "from sklearn.preprocessing import LabelEncoder, StandardScaler\n",
    "from sklearn.model_selection import train_test_split, GridSearchCV\n",
    "from sklearn.linear_model import LogisticRegression\n",
    "from sklearn.tree import DecisionTreeClassifier\n",
    "from sklearn.metrics import classification_report, confusion_matrix, roc_auc_score, accuracy_score\n",
    "\n",
    "# Load dataset\n",
    "df = pd.read_csv('bank-additional-full.csv', sep=';')\n",
    "df.columns = df.columns.str.strip()\n",
    "df.head(2)\n"
   ]
  },
  {
   "cell_type": "markdown",
   "id": "d204a95f",
   "metadata": {},
   "source": [
    "## Step 2: Data Exploration and Visualization"
   ]
  },
  {
   "cell_type": "code",
   "execution_count": null,
   "id": "e79ac7cd",
   "metadata": {},
   "outputs": [],
   "source": [
    "\n",
    "print(df.columns.tolist())\n",
    "\n",
    "sns.countplot(data=df, x='y')\n",
    "plt.title('Target Class Distribution')\n",
    "plt.savefig(\"target_distribution.png\")\n",
    "plt.show()\n",
    "\n",
    "plt.figure(figsize=(12,5))\n",
    "sns.countplot(data=df, x='job', hue='y')\n",
    "plt.xticks(rotation=45)\n",
    "plt.title('Job Type vs Subscription')\n",
    "plt.savefig(\"job_vs_subscription.png\")\n",
    "plt.show()\n",
    "\n",
    "plt.figure(figsize=(12,5))\n",
    "sns.countplot(data=df, x='education', hue='y')\n",
    "plt.xticks(rotation=45)\n",
    "plt.title('Education vs Subscription')\n",
    "plt.savefig(\"education_vs_subscription.png\")\n",
    "plt.show()\n",
    "\n",
    "plt.figure(figsize=(12,8))\n",
    "corr = df.select_dtypes(include='number').corr()\n",
    "sns.heatmap(corr, annot=True, cmap='coolwarm')\n",
    "plt.title(\"Correlation Matrix\")\n",
    "plt.savefig(\"correlation_matrix.png\")\n",
    "plt.show()\n"
   ]
  },
  {
   "cell_type": "markdown",
   "id": "1d799d41",
   "metadata": {},
   "source": [
    "## Step 3: Data Preprocessing and Feature Engineering"
   ]
  },
  {
   "cell_type": "code",
   "execution_count": null,
   "id": "f08961fb",
   "metadata": {},
   "outputs": [],
   "source": [
    "\n",
    "df.replace('unknown', np.nan, inplace=True)\n",
    "df.dropna(inplace=True)\n",
    "\n",
    "binary_cols = ['default', 'housing', 'loan', 'y']\n",
    "for col in binary_cols:\n",
    "    df[col] = df[col].map({'yes':1, 'no':0})\n",
    "\n",
    "cat_cols = df.select_dtypes(include='object').columns.tolist()\n",
    "df = pd.get_dummies(df, columns=cat_cols, drop_first=True)\n",
    "\n",
    "scaler = StandardScaler()\n",
    "num_cols = df.select_dtypes(include='number').columns.tolist()\n",
    "num_cols.remove('y')\n",
    "df[num_cols] = scaler.fit_transform(df[num_cols])\n"
   ]
  },
  {
   "cell_type": "markdown",
   "id": "080cffd2",
   "metadata": {},
   "source": [
    "## Step 4: Model Building"
   ]
  },
  {
   "cell_type": "code",
   "execution_count": null,
   "id": "41e464a1",
   "metadata": {},
   "outputs": [],
   "source": [
    "\n",
    "X = df.drop('y', axis=1)\n",
    "y = df['y']\n",
    "\n",
    "X_train, X_test, y_train, y_test = train_test_split(X, y, test_size=0.20, random_state=42)\n",
    "\n",
    "logreg = LogisticRegression(max_iter=1000)\n",
    "logreg.fit(X_train, y_train)\n",
    "\n",
    "dt = DecisionTreeClassifier(random_state=42)\n",
    "params = {'max_depth': [4, 6, 8, 10],\n",
    "          'min_samples_split': [2, 5, 10],\n",
    "          'criterion': ['gini', 'entropy']}\n",
    "\n",
    "grid = GridSearchCV(dt, param_grid=params, cv=5)\n",
    "grid.fit(X_train, y_train)\n",
    "best_dt = grid.best_estimator_\n"
   ]
  },
  {
   "cell_type": "markdown",
   "id": "7ce9f187",
   "metadata": {},
   "source": [
    "## Step 5: Model Evaluation"
   ]
  },
  {
   "cell_type": "code",
   "execution_count": null,
   "id": "7977e7c0",
   "metadata": {},
   "outputs": [],
   "source": [
    "\n",
    "y_pred_log = logreg.predict(X_test)\n",
    "y_pred_dt = best_dt.predict(X_test)\n",
    "\n",
    "print(\"Logistic Regression:\")\n",
    "print(classification_report(y_test, y_pred_log))\n",
    "print(\"Confusion Matrix:\\n\", confusion_matrix(y_test, y_pred_log))\n",
    "log_roc_auc = roc_auc_score(y_test, y_pred_log)\n",
    "print(\"ROC AUC:\", log_roc_auc)\n",
    "\n",
    "print(\"\\nDecision Tree:\")\n",
    "print(classification_report(y_test, y_pred_dt))\n",
    "print(\"Confusion Matrix:\\n\", confusion_matrix(y_test, y_pred_dt))\n",
    "tree_roc_auc = roc_auc_score(y_test, y_pred_dt)\n",
    "print(\"ROC AUC:\", tree_roc_auc)\n"
   ]
  },
  {
   "cell_type": "markdown",
   "id": "78958cd6",
   "metadata": {},
   "source": [
    "## Step 6: Final Summary"
   ]
  },
  {
   "cell_type": "code",
   "execution_count": null,
   "id": "52c3a6f0",
   "metadata": {},
   "outputs": [],
   "source": [
    "\n",
    "print(f\"\\nLogistic Regression ROC AUC: {log_roc_auc:.4f}\")\n",
    "print(f\"Decision Tree ROC AUC: {tree_roc_auc:.4f}\")\n",
    "\n",
    "if log_roc_auc > tree_roc_auc:\n",
    "    print(\"\\n✅ Logistic Regression performs better based on ROC AUC.\")\n",
    "else:\n",
    "    print(\"\\n✅ Decision Tree performs better based on ROC AUC.\")\n",
    "\n",
    "print(\"\\n📁 All plots saved as PNG files in your working directory.\")\n"
   ]
  }
 ],
 "metadata": {},
 "nbformat": 4,
 "nbformat_minor": 5
}
